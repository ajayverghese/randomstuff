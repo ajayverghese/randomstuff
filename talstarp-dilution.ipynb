{
 "cells": [
  {
   "cell_type": "markdown",
   "metadata": {},
   "source": [
    "# Talstar P dilution calc\n",
    "\n",
    "From [Talstar user guide](https://www.domyown.com/msds/Talstar-P-Residential-User-Guide.pdf ) and [Talstar instructions](http://www.fmcprosolutions.com/Portals/pest/Content/Docs/Labels/Talstar%20P%20Professional%2003-22-2017%20Clean%20Comm.pdf)  \n",
    "\n",
    "> For 0.02% dilution, mix 0.33 fluid oz. of Talstar® Professional insecticide per gallon of water.  \n",
    "> For 0.06% dilution, mix 1 fluid oz. Talstar Professional insecticide per gallon of water (1 fluid oz. = 2 tablespoons).\n",
    "\n",
    "Refer: https://pesticidestewardship.org/calibration/doing-the-math/"
   ]
  },
  {
   "cell_type": "code",
   "execution_count": 1,
   "metadata": {},
   "outputs": [],
   "source": [
    "# Definitions for gallon and liter in terms of fluid ounces\n",
    "G = 128\n",
    "L = 33.81\n",
    "\n",
    "# Definition of fluid oz in ml\n",
    "ML = 29.5735\n",
    "\n",
    "# dilution table for talstar p\n",
    "# k = dilution %\n",
    "# v = oz of concentrate per gallon\n",
    "dil = {\n",
    "    0.06: 1,\n",
    "    0.03: 0.5,\n",
    "    0.02: 0.33\n",
    "}"
   ]
  },
  {
   "cell_type": "code",
   "execution_count": 2,
   "metadata": {},
   "outputs": [],
   "source": [
    "# Required quantity and dilution\n",
    "qty = 2 * L\n",
    "dilution = 0.06 # percent"
   ]
  },
  {
   "cell_type": "code",
   "execution_count": 3,
   "metadata": {},
   "outputs": [
    {
     "name": "stdout",
     "output_type": "stream",
     "text": [
      "Concentrate required for 2.00 liter or 0.53 gallon final solution is: 0.53 oz or 15.62 ml\n"
     ]
    }
   ],
   "source": [
    "# oz for one liter at 0.06% dilution\n",
    "c = (dil[dilution] / G) * qty\n",
    "print(\"Concentrate required for %.2f liter or %.2f gallon final solution is: %.2f oz or %.2f ml\" %\n",
    "      (qty / L, qty / G, c, c * ML))"
   ]
  },
  {
   "cell_type": "code",
   "execution_count": null,
   "metadata": {},
   "outputs": [],
   "source": []
  }
 ],
 "metadata": {
  "kernelspec": {
   "display_name": "Python 3",
   "language": "python",
   "name": "python3"
  },
  "language_info": {
   "codemirror_mode": {
    "name": "ipython",
    "version": 3
   },
   "file_extension": ".py",
   "mimetype": "text/x-python",
   "name": "python",
   "nbconvert_exporter": "python",
   "pygments_lexer": "ipython3",
   "version": "3.7.3"
  }
 },
 "nbformat": 4,
 "nbformat_minor": 2
}
