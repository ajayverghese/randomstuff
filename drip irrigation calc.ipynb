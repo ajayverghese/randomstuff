{
 "cells": [
  {
   "cell_type": "markdown",
   "metadata": {},
   "source": [
    "# Drip irrigation calculations\n",
    "\n",
    "Calculate how much water is consumed for a given number of drippers and irrigation time."
   ]
  },
  {
   "cell_type": "code",
   "execution_count": 3,
   "metadata": {},
   "outputs": [],
   "source": [
    "#\n",
    "# Irrigation parameters\n",
    "#\n",
    "\n",
    "\n",
    "# minutes to run irrigation\n",
    "minutes = 10\n",
    "\n",
    "# drippers with flow in gph\n",
    "drippers = {\n",
    "    'Curry leaf 1': 1,\n",
    "    'Curry leaf 2': 1,\n",
    "    'Curry leaf 3': 1,\n",
    "    'Mint': 1,\n",
    "    'Chilli': 1,\n",
    "    'Gardenia': 1,\n",
    "    'Rose': 1.5,\n",
    "    'Redwood': 1,\n",
    "    'Peach': 0.5,\n",
    "}\n",
    "\n",
    "# plants on the edge\n",
    "numEdgeDrippers = 22\n",
    "edgeDrippers = {'Edge plant %d' % (x + 1): 1.5 for x in range(numEdgeDrippers)}\n",
    "drippers.update(edgeDrippers)\n"
   ]
  },
  {
   "cell_type": "code",
   "execution_count": 4,
   "metadata": {},
   "outputs": [
    {
     "name": "stdout",
     "output_type": "stream",
     "text": [
      "   Curry leaf 1: 1.00 gph = 1.00 gal (3.79 L)\n",
      "   Curry leaf 2: 1.00 gph = 1.00 gal (3.79 L)\n",
      "   Curry leaf 3: 1.00 gph = 1.00 gal (3.79 L)\n",
      "           Mint: 1.00 gph = 1.00 gal (3.79 L)\n",
      "         Chilli: 1.00 gph = 1.00 gal (3.79 L)\n",
      "       Gardenia: 1.00 gph = 1.00 gal (3.79 L)\n",
      "           Rose: 1.50 gph = 1.50 gal (5.68 L)\n",
      "        Redwood: 1.00 gph = 1.00 gal (3.79 L)\n",
      "          Peach: 0.50 gph = 0.50 gal (1.89 L)\n",
      "   Edge plant 1: 1.50 gph = 1.50 gal (5.68 L)\n",
      "   Edge plant 2: 1.50 gph = 1.50 gal (5.68 L)\n",
      "   Edge plant 3: 1.50 gph = 1.50 gal (5.68 L)\n",
      "   Edge plant 4: 1.50 gph = 1.50 gal (5.68 L)\n",
      "   Edge plant 5: 1.50 gph = 1.50 gal (5.68 L)\n",
      "   Edge plant 6: 1.50 gph = 1.50 gal (5.68 L)\n",
      "   Edge plant 7: 1.50 gph = 1.50 gal (5.68 L)\n",
      "   Edge plant 8: 1.50 gph = 1.50 gal (5.68 L)\n",
      "   Edge plant 9: 1.50 gph = 1.50 gal (5.68 L)\n",
      "  Edge plant 10: 1.50 gph = 1.50 gal (5.68 L)\n",
      "  Edge plant 11: 1.50 gph = 1.50 gal (5.68 L)\n",
      "  Edge plant 12: 1.50 gph = 1.50 gal (5.68 L)\n",
      "  Edge plant 13: 1.50 gph = 1.50 gal (5.68 L)\n",
      "  Edge plant 14: 1.50 gph = 1.50 gal (5.68 L)\n",
      "  Edge plant 15: 1.50 gph = 1.50 gal (5.68 L)\n",
      "  Edge plant 16: 1.50 gph = 1.50 gal (5.68 L)\n",
      "  Edge plant 17: 1.50 gph = 1.50 gal (5.68 L)\n",
      "  Edge plant 18: 1.50 gph = 1.50 gal (5.68 L)\n",
      "  Edge plant 19: 1.50 gph = 1.50 gal (5.68 L)\n",
      "  Edge plant 20: 1.50 gph = 1.50 gal (5.68 L)\n",
      "  Edge plant 21: 1.50 gph = 1.50 gal (5.68 L)\n",
      "  Edge plant 22: 1.50 gph = 1.50 gal (5.68 L)\n",
      "\n",
      "Irrigation runtime: 60 minutes\n",
      "Number of drippers: 31\n",
      "Total water consumed: 42.00 gallons, or 158.97 liters, over 60 minutes\n"
     ]
    }
   ],
   "source": [
    "g = 0 # gallons\n",
    "hr = 60 # minutes\n",
    "\n",
    "gToL = 3.785 # gallon to liter conv\n",
    "\n",
    "for k, v in drippers.items():\n",
    "    consumed = v * (minutes / hr)\n",
    "    g += consumed\n",
    "    print('%15s: %0.2f gph = %0.2f gal (%0.2f L)' % (k, v, consumed, consumed * gToL))\n",
    "\n",
    "print('\\nIrrigation runtime: %d minutes' % minutes)\n",
    "print('Number of drippers: %s' % len(drippers))\n",
    "print('Total water consumed: %0.2f gallons, or %0.2f liters, over %d minutes' % (g, g * gToL, minutes))"
   ]
  },
  {
   "cell_type": "code",
   "execution_count": null,
   "metadata": {},
   "outputs": [],
   "source": []
  },
  {
   "cell_type": "code",
   "execution_count": null,
   "metadata": {},
   "outputs": [],
   "source": []
  }
 ],
 "metadata": {
  "kernelspec": {
   "display_name": "Python 3",
   "language": "python",
   "name": "python3"
  },
  "language_info": {
   "codemirror_mode": {
    "name": "ipython",
    "version": 3
   },
   "file_extension": ".py",
   "mimetype": "text/x-python",
   "name": "python",
   "nbconvert_exporter": "python",
   "pygments_lexer": "ipython3",
   "version": "3.7.3"
  }
 },
 "nbformat": 4,
 "nbformat_minor": 2
}
